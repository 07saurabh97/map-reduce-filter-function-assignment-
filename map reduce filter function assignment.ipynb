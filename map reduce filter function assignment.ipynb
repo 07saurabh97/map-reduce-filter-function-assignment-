{
 "cells": [
  {
   "cell_type": "markdown",
   "id": "333a86cf-5a6f-4c32-8fdd-46d229726847",
   "metadata": {},
   "source": [
    "Question 1. Create a python program to sort the given list of tuples based on integer value using a\n",
    "lambda function. \n",
    "\n",
    "\n",
    "[('Sachin Tendulkar', 34357), ('Ricky Ponting', 27483), ('Jack Kallis', 25534), ('Virat Kohli', 24936)]"
   ]
  },
  {
   "cell_type": "code",
   "execution_count": 29,
   "id": "decf304f-f67f-4cf3-8b6e-262453c0c57e",
   "metadata": {},
   "outputs": [
    {
     "name": "stdout",
     "output_type": "stream",
     "text": [
      "[('Virat Kohli', 24936), ('Sachin Tendulkar', 34357), ('Ricky Ponting', 27483), ('Jack Kallis', 25534)]\n"
     ]
    }
   ],
   "source": [
    "l = [('Sachin Tendulkar', 34357), ('Ricky Ponting', 27483), ('Jack Kallis', 25534), ('Virat Kohli', 24936)]\n",
    "l.sort(key=lambda x: x[0], reverse=True)\n",
    "print(l)"
   ]
  },
  {
   "cell_type": "markdown",
   "id": "2468817c-341c-47c7-bfac-77fe8011036a",
   "metadata": {},
   "source": [
    "Question 2. Write a Python Program to find the squares of all the numbers in the given list of integers using lambda and map functions.\n",
    "\n",
    "\n",
    "[1, 2, 3, 4, 5, 6, 7, 8, 9, 10]"
   ]
  },
  {
   "cell_type": "code",
   "execution_count": 44,
   "id": "295ae928-5c27-4b4a-930b-f8be4310ace0",
   "metadata": {},
   "outputs": [],
   "source": [
    "l1=[1, 2, 3, 4, 5, 6, 7, 8, 9, 10]"
   ]
  },
  {
   "cell_type": "code",
   "execution_count": 51,
   "id": "10daff07-129c-46bc-b9f8-d865cb36dab9",
   "metadata": {},
   "outputs": [
    {
     "data": {
      "text/plain": [
       "[1, 4, 9, 16, 25, 36, 49, 64, 81, 100]"
      ]
     },
     "execution_count": 51,
     "metadata": {},
     "output_type": "execute_result"
    }
   ],
   "source": [
    "def test(l1):\n",
    "    l2=[]\n",
    "    for i in l1:\n",
    "        l2.append(i**2)\n",
    "    return l2\n",
    "test(l1)"
   ]
  },
  {
   "cell_type": "markdown",
   "id": "6f598e4c-e6d0-486d-8447-c8ae2e59d5a2",
   "metadata": {},
   "source": [
    "Question 3. Write a python program to convert the given list of integers into a tuple of strings. Use map and\n",
    "lambda functions\n",
    "\n",
    "\n",
    "Given String: [1, 2, 3, 4, 5, 6, 7, 8, 9, 10]\n",
    "\n",
    "Expected output: ('1', '2', '3', '4', '5', '6', '7', '8', '9', '10')"
   ]
  },
  {
   "cell_type": "code",
   "execution_count": 59,
   "id": "0e553449-393c-494b-bc4a-6fe491743433",
   "metadata": {},
   "outputs": [
    {
     "name": "stdout",
     "output_type": "stream",
     "text": [
      "('1', '2', '3', '4', '5', '6', '7', '8', '9', '10')\n"
     ]
    }
   ],
   "source": [
    "l3=[1, 2, 3, 4, 5, 6, 7, 8, 9, 10]\n",
    "\n",
    "convert_tuple=tuple(map(lambda x : str(x), l3))\n",
    "print(convert_tuple)"
   ]
  },
  {
   "cell_type": "markdown",
   "id": "94e9a371-f89f-4754-a568-5ae84ed9f4b2",
   "metadata": {},
   "source": [
    "Question 4. Write a python program using reduce function to compute the product of a list containing numbers\n",
    "from 1 to 25."
   ]
  },
  {
   "cell_type": "code",
   "execution_count": 1,
   "id": "41f750eb-00c1-4abb-823d-95ed570542e5",
   "metadata": {},
   "outputs": [
    {
     "name": "stdout",
     "output_type": "stream",
     "text": [
      "15511210043330985984000000\n"
     ]
    }
   ],
   "source": [
    "from functools import reduce\n",
    "\n",
    "l4=range(1,26)\n",
    "p=reduce(lambda x,y : x*y ,l4)\n",
    "print(p)"
   ]
  },
  {
   "cell_type": "markdown",
   "id": "d6e8da59-0030-4572-b7f4-2c4cdecde841",
   "metadata": {},
   "source": [
    "Question 5. Write a python program to filter the numbers in a given list that are divisible by 2 and 3 using the\n",
    "filter function.\n",
    "\n",
    "\n",
    "[2, 3, 6, 9, 27, 60, 90, 120, 55, 46]"
   ]
  },
  {
   "cell_type": "code",
   "execution_count": 30,
   "id": "41c29c65-3ecd-47a8-80b7-a2ebe4156df4",
   "metadata": {},
   "outputs": [
    {
     "data": {
      "text/plain": [
       "[6, 60, 90, 120]"
      ]
     },
     "execution_count": 30,
     "metadata": {},
     "output_type": "execute_result"
    }
   ],
   "source": [
    "l5=[2, 3, 6, 9, 27, 60, 90, 120, 55, 46]\n",
    "list(filter(lambda x:  x % 2==0 and x % 3 == 0, l5))"
   ]
  },
  {
   "cell_type": "markdown",
   "id": "25c31b7d-0934-44d0-b785-2e363436ee4a",
   "metadata": {},
   "source": [
    "Question. Write a python program to find palindromes in the given list of strings using lambda and filter\n",
    "function.\n",
    "\n",
    "\n",
    "['python', 'php', 'aba', 'radar', 'level']"
   ]
  },
  {
   "cell_type": "code",
   "execution_count": 3,
   "id": "6da9b0c9-7a0e-49cc-a130-a09be328f236",
   "metadata": {},
   "outputs": [
    {
     "name": "stdout",
     "output_type": "stream",
     "text": [
      "['php', 'aba', 'radar', 'level']\n"
     ]
    }
   ],
   "source": [
    "given_list = ['python', 'php', 'aba', 'radar', 'level']\n",
    "\n",
    "palindrome_list = list(filter(lambda x: x == x[::-1], given_list))\n",
    "\n",
    "print(palindrome_list)"
   ]
  }
 ],
 "metadata": {
  "kernelspec": {
   "display_name": "Python 3 (ipykernel)",
   "language": "python",
   "name": "python3"
  },
  "language_info": {
   "codemirror_mode": {
    "name": "ipython",
    "version": 3
   },
   "file_extension": ".py",
   "mimetype": "text/x-python",
   "name": "python",
   "nbconvert_exporter": "python",
   "pygments_lexer": "ipython3",
   "version": "3.10.8"
  }
 },
 "nbformat": 4,
 "nbformat_minor": 5
}
